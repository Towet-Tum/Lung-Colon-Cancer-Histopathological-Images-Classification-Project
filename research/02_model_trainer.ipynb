{
 "cells": [
  {
   "cell_type": "code",
   "execution_count": 1,
   "metadata": {},
   "outputs": [
    {
     "data": {
      "text/plain": [
       "'/home/towet/Desktop/Visions/OpenProjects/Lung-Colon-Cancer-Histopathological-Images-Classification-Project/research'"
      ]
     },
     "execution_count": 1,
     "metadata": {},
     "output_type": "execute_result"
    }
   ],
   "source": [
    "import os\n",
    "%pwd"
   ]
  },
  {
   "cell_type": "code",
   "execution_count": 2,
   "metadata": {},
   "outputs": [],
   "source": [
    "os.chdir('../')"
   ]
  },
  {
   "cell_type": "code",
   "execution_count": 3,
   "metadata": {},
   "outputs": [
    {
     "data": {
      "text/plain": [
       "'/home/towet/Desktop/Visions/OpenProjects/Lung-Colon-Cancer-Histopathological-Images-Classification-Project'"
      ]
     },
     "execution_count": 3,
     "metadata": {},
     "output_type": "execute_result"
    }
   ],
   "source": [
    "%pwd"
   ]
  },
  {
   "cell_type": "code",
   "execution_count": 4,
   "metadata": {},
   "outputs": [],
   "source": [
    "from dataclasses import dataclass\n",
    "from pathlib import Path \n",
    "\n",
    "@dataclass(frozen=True)\n",
    "class TrainingConfig:\n",
    "    root_dir: Path \n",
    "    model_path: Path \n",
    "    dataset: Path \n",
    "    epochs: int \n",
    "    imgsz: tuple\n",
    "    batch_size: int \n",
    "    lr: float \n",
    "    weights: str \n",
    "    channels: int"
   ]
  },
  {
   "cell_type": "code",
   "execution_count": 5,
   "metadata": {},
   "outputs": [
    {
     "name": "stderr",
     "output_type": "stream",
     "text": [
      "2024-02-02 07:40:36.562204: I external/local_tsl/tsl/cuda/cudart_stub.cc:31] Could not find cuda drivers on your machine, GPU will not be used.\n",
      "2024-02-02 07:40:40.518129: E external/local_xla/xla/stream_executor/cuda/cuda_dnn.cc:9261] Unable to register cuDNN factory: Attempting to register factory for plugin cuDNN when one has already been registered\n",
      "2024-02-02 07:40:40.518434: E external/local_xla/xla/stream_executor/cuda/cuda_fft.cc:607] Unable to register cuFFT factory: Attempting to register factory for plugin cuFFT when one has already been registered\n",
      "2024-02-02 07:40:41.024105: E external/local_xla/xla/stream_executor/cuda/cuda_blas.cc:1515] Unable to register cuBLAS factory: Attempting to register factory for plugin cuBLAS when one has already been registered\n",
      "2024-02-02 07:40:42.331881: I external/local_tsl/tsl/cuda/cudart_stub.cc:31] Could not find cuda drivers on your machine, GPU will not be used.\n",
      "2024-02-02 07:40:51.296315: W tensorflow/compiler/tf2tensorrt/utils/py_utils.cc:38] TF-TRT Warning: Could not find TensorRT\n"
     ]
    }
   ],
   "source": [
    "from LungColonClassifier.constants import *\n",
    "from LungColonClassifier.utils.common import read_yaml, create_directories"
   ]
  },
  {
   "cell_type": "code",
   "execution_count": 6,
   "metadata": {},
   "outputs": [],
   "source": [
    "class ConfigurationManager:\n",
    "    def __init__(self,\n",
    "                 config_file_path = CONFIG_FILE_PATH,\n",
    "                 params_file_path = PARAMS_FILE_PATH):\n",
    "        self.config = read_yaml(config_file_path)\n",
    "        self.params = read_yaml(params_file_path)\n",
    "\n",
    "        create_directories([self.config.artifacts_root])\n",
    "\n",
    "    def get_training_config(self) -> TrainingConfig:\n",
    "        config = self.config.training \n",
    "        params = self.params \n",
    "        create_directories([config.root_dir])\n",
    "        \n",
    "        training_config = TrainingConfig(\n",
    "            root_dir=config.root_dir,\n",
    "            model_path=config.model_path,\n",
    "            dataset=\"artifacts/data_ingestion/lung_colon_image_set/\",\n",
    "            epochs=params.EPOCHS,\n",
    "            imgsz=params.IMG_SZ,\n",
    "            weights=params.WEIGHTS,\n",
    "            channels=params.CHANNELS,\n",
    "            lr=params.LEARNING_RATE,\n",
    "            batch_size=params.BATCH_SIZE\n",
    "        )\n",
    "        return training_config"
   ]
  },
  {
   "cell_type": "code",
   "execution_count": 9,
   "metadata": {},
   "outputs": [],
   "source": [
    "\n",
    "import os\n",
    "import tensorflow as tf\n",
    "from tensorflow.keras.applications import Xception \n",
    "from tensorflow.keras.models import Sequential\n",
    "from tensorflow.keras.layers import Dense, GlobalAveragePooling2D\n",
    "from tensorflow.keras.optimizers import Adamax\n",
    "from tensorflow.keras.callbacks import ModelCheckpoint, EarlyStopping, ReduceLROnPlateau \n",
    "from tensorflow.keras.models import Model \n",
    "from LungColonClassifier.utils.common import load_data, process_data\n"
   ]
  },
  {
   "cell_type": "code",
   "execution_count": 10,
   "metadata": {},
   "outputs": [],
   "source": [
    "class Training:\n",
    "    def __init__(self, config: TrainingConfig):\n",
    "        self.config = config \n",
    "\n",
    "\n",
    "    def get_callbacks(self):\n",
    "        callbacks = []\n",
    "\n",
    "        # ModelCheckpoint\n",
    "        checkpoint = ModelCheckpoint(filepath=self.config.model_path, verbose=1, monitor='val_accuracy', mode='max') \n",
    "        callbacks.append(checkpoint) \n",
    "\n",
    "        # Import ReduceLROnPlateau if not imported earlier\n",
    "        reduce_lr = ReduceLROnPlateau(monitor='val_loss', factor=0.2, patience=3, min_lr=1e-6, verbose=1)\n",
    "        callbacks.append(reduce_lr)\n",
    "\n",
    "        # Import EarlyStopping if not imported earlier\n",
    "        early_stopping = EarlyStopping(monitor='val_loss', patience=5, restore_best_weights=True, verbose=1)\n",
    "        callbacks.append(early_stopping)\n",
    "\n",
    "        return callbacks \n",
    "        \n",
    "    def train(self):\n",
    "        data = load_data(self.config.dataset)\n",
    "        train_gen, valid_gen, test_gen = process_data(data)\n",
    "        \n",
    "\n",
    "        img_size = (224,224)\n",
    "        channels = 3\n",
    "        img_shape = (img_size[0], img_size[1], channels)\n",
    "        class_count = len(list(train_gen.class_indices.keys()))\n",
    "\n",
    "\n",
    "        # Create Xception base model\n",
    "        base_model = Xception(input_shape=img_shape, include_top=False, weights='imagenet')\n",
    "\n",
    "        base_model.trainable = True\n",
    "\n",
    "        x = base_model.output\n",
    "\n",
    "        x = GlobalAveragePooling2D()(x)\n",
    "\n",
    "        y = Dense(256, activation='relu')(x)\n",
    "\n",
    "        predictions = Dense(class_count, activation='softmax', name='final')(y)\n",
    "\n",
    "        model_Xception = Model(inputs=base_model.input, outputs=predictions)  \n",
    "\n",
    "\n",
    "        model_Xception.compile(optimizer=Adamax(learning_rate=0.001), loss='categorical_crossentropy', metrics=['accuracy']) \n",
    "\n",
    "\n",
    "        callbacks=self.get_callbacks() \n",
    "        model_Xception.fit(train_gen,epochs=10,validation_data=valid_gen,callbacks=[callbacks])\n",
    "        \n",
    "        "
   ]
  },
  {
   "cell_type": "code",
   "execution_count": 11,
   "metadata": {},
   "outputs": [
    {
     "name": "stdout",
     "output_type": "stream",
     "text": [
      "[2024-02-02 07:42:45,469: INFO: common: yaml file: config/config.yaml loaded successfully]\n",
      "[2024-02-02 07:42:45,631: INFO: common: yaml file: params.yaml loaded successfully]\n",
      "[2024-02-02 07:42:45,633: INFO: common: created directory at: artifacts]\n",
      "[2024-02-02 07:42:45,635: INFO: common: created directory at: artifacts/training]\n",
      "Found 20000 validated image filenames belonging to 5 classes.\n",
      "Found 2500 validated image filenames belonging to 5 classes.\n",
      "Found 2500 validated image filenames belonging to 5 classes.\n",
      "Epoch 1/10\n"
     ]
    },
    {
     "name": "stderr",
     "output_type": "stream",
     "text": [
      "2024-02-02 07:43:08.953589: W external/local_tsl/tsl/framework/cpu_allocator_impl.cc:83] Allocation of 194658304 exceeds 10% of free system memory.\n",
      "2024-02-02 07:43:09.340204: W external/local_tsl/tsl/framework/cpu_allocator_impl.cc:83] Allocation of 194658304 exceeds 10% of free system memory.\n",
      "2024-02-02 07:43:09.666251: W external/local_tsl/tsl/framework/cpu_allocator_impl.cc:83] Allocation of 194658304 exceeds 10% of free system memory.\n",
      "2024-02-02 07:43:09.862526: W external/local_tsl/tsl/framework/cpu_allocator_impl.cc:83] Allocation of 194658304 exceeds 10% of free system memory.\n",
      "2024-02-02 07:43:10.328993: W external/local_tsl/tsl/framework/cpu_allocator_impl.cc:83] Allocation of 194658304 exceeds 10% of free system memory.\n"
     ]
    }
   ],
   "source": [
    "try:\n",
    "    config = ConfigurationManager()\n",
    "    train_config = config.get_training_config()\n",
    "    train = Training(config=train_config)\n",
    "    train.train()\n",
    "except Exception as e:\n",
    "    raise e"
   ]
  }
 ],
 "metadata": {
  "kernelspec": {
   "display_name": "lung",
   "language": "python",
   "name": "python3"
  },
  "language_info": {
   "codemirror_mode": {
    "name": "ipython",
    "version": 3
   },
   "file_extension": ".py",
   "mimetype": "text/x-python",
   "name": "python",
   "nbconvert_exporter": "python",
   "pygments_lexer": "ipython3",
   "version": "3.10.12"
  }
 },
 "nbformat": 4,
 "nbformat_minor": 2
}
